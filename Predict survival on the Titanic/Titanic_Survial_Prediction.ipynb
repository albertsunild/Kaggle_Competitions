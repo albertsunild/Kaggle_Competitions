{
 "cells": [
  {
   "cell_type": "code",
   "execution_count": 1,
   "metadata": {
    "collapsed": true
   },
   "outputs": [],
   "source": [
    "# Importing Libraries\n",
    "\n",
    "import pandas as pd\n",
    "import numpy as np\n",
    "import matplotlib.pyplot as plt"
   ]
  },
  {
   "cell_type": "code",
   "execution_count": 2,
   "metadata": {},
   "outputs": [
    {
     "data": {
      "text/plain": [
       "Index(['PassengerId', 'Survived', 'Pclass', 'Name', 'Sex', 'Age', 'SibSp',\n",
       "       'Parch', 'Ticket', 'Fare', 'Cabin', 'Embarked'],\n",
       "      dtype='object')"
      ]
     },
     "execution_count": 2,
     "metadata": {},
     "output_type": "execute_result"
    }
   ],
   "source": [
    "# Importing the data\n",
    "\n",
    "data = pd.read_csv(\"train.csv\")\n",
    "data.describe()\n",
    "data.columns"
   ]
  },
  {
   "cell_type": "markdown",
   "metadata": {},
   "source": [
    "# Data Exploration"
   ]
  },
  {
   "cell_type": "markdown",
   "metadata": {},
   "source": [
    "#### Survival vs Non-Survival "
   ]
  },
  {
   "cell_type": "code",
   "execution_count": 3,
   "metadata": {},
   "outputs": [
    {
     "name": "stderr",
     "output_type": "stream",
     "text": [
      "C:\\Users\\IBM_ADMIN\\Anaconda3\\lib\\site-packages\\pandas\\plotting\\_core.py:1714: UserWarning: Pandas doesn't allow columns to be created via a new attribute name - see https://pandas.pydata.org/pandas-docs/stable/indexing.html#attribute-access\n",
      "  series.name = label\n"
     ]
    },
    {
     "data": {
      "image/png": "[encoded data removed]",
      "text/plain": [
       "<matplotlib.figure.Figure at 0x89e4e80>"
      ]
     },
     "metadata": {},
     "output_type": "display_data"
    }
   ],
   "source": [
    "Total_Passengers = data.Survived.count()\n",
    "Total_Passengers_Survived = data.Survived[(data.Survived==1)].count()\n",
    "Total_Passengers_Not_Survived = data.Survived[(data.Survived==0)].count()\n",
    "\n",
    "#Creating DataFrame\n",
    "Passengers_data = {\"Total_Passengers\": [Total_Passengers],\"Total_Passengers_Survived\": [Total_Passengers_Survived],\"Total_Passengers_Not_Survived\": [Total_Passengers_Not_Survived ]}\n",
    "Passengers_data = pd.DataFrame(Passengers_data, columns = [\"Total_Passengers\", \"Total_Passengers_Survived\",\"Total_Passengers_Not_Survived\"])\n",
    "Passengers_data\n",
    "\n",
    "# Barh Graph Generation\n",
    "\n",
    "Passengers_data.plot(x=\"Total_Passengers\", y=[\"Total_Passengers_Survived\",\"Total_Passengers_Not_Survived\"],kind = \"barh\")\n",
    "plt.xlabel(\"Total_Passengers\")\n",
    "plt.title(\"Survival Analysis\")\n",
    "plt.show()\n",
    "\n"
   ]
  },
  {
   "cell_type": "code",
   "execution_count": 4,
   "metadata": {},
   "outputs": [
    {
     "data": {
      "image/png": "[encoded data removed]",
      "text/plain": [
       "<matplotlib.figure.Figure at 0x8b94320>"
      ]
     },
     "metadata": {},
     "output_type": "display_data"
    }
   ],
   "source": [
    "labels = \"Survived\",\"Not_Survived\"\n",
    "a = (Total_Passengers_Survived/Total_Passengers)*100\n",
    "b= (Total_Passengers_Not_Survived/Total_Passengers)*100\n",
    "sizes = [a, b]\n",
    "explode = (0.1, 0)  # only \"explode\" the 1st slice (i.e. \"Survived)\n",
    "\n",
    "fig1, ax1 = plt.subplots()\n",
    "ax1.pie(sizes, explode=explode, labels=labels, autopct='%1.1f%%',\n",
    "        shadow=True, startangle=90)\n",
    "ax1.axis('equal')  # Equal aspect ratio ensures that pie is drawn as a circle.\n",
    "plt.title(\"Survived vs Not_Survived\")\n",
    "\n",
    "plt.show()"
   ]
  },
  {
   "cell_type": "markdown",
   "metadata": {
    "collapsed": true
   },
   "source": [
    "  - Out of 891 passengers, 60% of passengers survived in the crash. "
   ]
  },
  {
   "cell_type": "markdown",
   "metadata": {},
   "source": [
    "#### Survival Analysis_Gender"
   ]
  },
  {
   "cell_type": "code",
   "execution_count": 5,
   "metadata": {},
   "outputs": [
    {
     "data": {
      "text/html": [
       "<div>\n",
       "<style scoped>\n",
       "    .dataframe tbody tr th:only-of-type {\n",
       "        vertical-align: middle;\n",
       "    }\n",
       "\n",
       "    .dataframe tbody tr th {\n",
       "        vertical-align: top;\n",
       "    }\n",
       "\n",
       "    .dataframe thead th {\n",
       "        text-align: right;\n",
       "    }\n",
       "</style>\n",
       "<table border=\"1\" class=\"dataframe\">\n",
       "  <thead>\n",
       "    <tr style=\"text-align: right;\">\n",
       "      <th></th>\n",
       "      <th>Gender</th>\n",
       "      <th>No_of_Passengers</th>\n",
       "      <th>Total_Survived</th>\n",
       "    </tr>\n",
       "  </thead>\n",
       "  <tbody>\n",
       "    <tr>\n",
       "      <th>0</th>\n",
       "      <td>Female</td>\n",
       "      <td>314</td>\n",
       "      <td>233</td>\n",
       "    </tr>\n",
       "    <tr>\n",
       "      <th>1</th>\n",
       "      <td>Male</td>\n",
       "      <td>577</td>\n",
       "      <td>109</td>\n",
       "    </tr>\n",
       "  </tbody>\n",
       "</table>\n",
       "</div>"
      ],
      "text/plain": [
       "   Gender  No_of_Passengers  Total_Survived\n",
       "0  Female               314             233\n",
       "1    Male               577             109"
      ]
     },
     "execution_count": 5,
     "metadata": {},
     "output_type": "execute_result"
    }
   ],
   "source": [
    "# Survival Analysis by Gender (Survival -->0 = No, 1 = Yes)\n",
    "\n",
    "#Count by Gender\n",
    "femalecount = data.Sex[data.Sex==\"female\"].count()\n",
    "malecount = data.Sex[data.Sex==\"male\"].count()\n",
    "\n",
    "#Count by Gender and Survived\n",
    "femalesurvived= data.Sex[(data.Sex ==\"female\") & (data.Survived==1)].count()\n",
    "malesurvived= data.Sex[(data.Sex ==\"male\") & (data.Survived==1)].count()\n",
    "\n",
    "#Creating DataFrame\n",
    "Gender_data = {\"Gender\": [\"Female\", \"Male\"],\"No_of_Passengers\": [femalecount, malecount],\"Total_Survived\": [femalesurvived,malesurvived ]}\n",
    "GenderByCategory = pd.DataFrame(Gender_data, columns = [\"Gender\", \"No_of_Passengers\",\"Total_Survived\"])\n",
    "GenderByCategory"
   ]
  },
  {
   "cell_type": "code",
   "execution_count": 6,
   "metadata": {},
   "outputs": [
    {
     "name": "stderr",
     "output_type": "stream",
     "text": [
      "C:\\Users\\IBM_ADMIN\\Anaconda3\\lib\\site-packages\\pandas\\plotting\\_core.py:1714: UserWarning: Pandas doesn't allow columns to be created via a new attribute name - see https://pandas.pydata.org/pandas-docs/stable/indexing.html#attribute-access\n",
      "  series.name = label\n"
     ]
    },
    {
     "data": {
      "image/png": "[encoded data removed]",
      "text/plain": [
       "<matplotlib.figure.Figure at 0x8974a58>"
      ]
     },
     "metadata": {},
     "output_type": "display_data"
    }
   ],
   "source": [
    "# Bar Graph Generation\n",
    "\n",
    "GenderByCategory.plot(x=\"Gender\", y=[\"No_of_Passengers\",\"Total_Survived\"],kind = \"bar\")\n",
    "plt.xlabel('Gender')\n",
    "plt.title('Survival Analysis by Gender')\n",
    "plt.show()\n"
   ]
  },
  {
   "cell_type": "code",
   "execution_count": 7,
   "metadata": {},
   "outputs": [
    {
     "name": "stdout",
     "output_type": "stream",
     "text": [
      "The percentage of male survived:  18.89 %\n",
      "The percentage of female survived:  74.2 %\n"
     ]
    }
   ],
   "source": [
    "# Survival percentage against Gender\n",
    "\n",
    "malesuvival = round(((malesurvived/malecount)*100),2)\n",
    "femalesuvival = round(((femalesurvived/femalecount)*100),2)\n",
    "\n",
    "print(\"The percentage of male survived: \", malesuvival,\"%\")\n",
    "print(\"The percentage of female survived: \", femalesuvival,\"%\")\n"
   ]
  },
  {
   "cell_type": "markdown",
   "metadata": {},
   "source": [
    " - Female survival rate is signficantly very high compared to Men.\n",
    " - There is a 72% chances of female getting survived in the crash."
   ]
  },
  {
   "cell_type": "markdown",
   "metadata": {},
   "source": [
    "#### Survival Analysis_Age Category"
   ]
  },
  {
   "cell_type": "code",
   "execution_count": 8,
   "metadata": {},
   "outputs": [
    {
     "data": {
      "image/png": "[encoded data removed]",
      "text/plain": [
       "<matplotlib.figure.Figure at 0x8f90160>"
      ]
     },
     "metadata": {},
     "output_type": "display_data"
    }
   ],
   "source": [
    "# Age frequency using histogram\n",
    "\n",
    "data.Age.hist()\n",
    "plt.title(\"Historgram of Age\")\n",
    "plt.xlabel(\"Age\")\n",
    "plt.ylabel(\"Frequency\")\n",
    "plt.show()"
   ]
  },
  {
   "cell_type": "code",
   "execution_count": 9,
   "metadata": {},
   "outputs": [
    {
     "data": {
      "text/html": [
       "<div>\n",
       "<style scoped>\n",
       "    .dataframe tbody tr th:only-of-type {\n",
       "        vertical-align: middle;\n",
       "    }\n",
       "\n",
       "    .dataframe tbody tr th {\n",
       "        vertical-align: top;\n",
       "    }\n",
       "\n",
       "    .dataframe thead th {\n",
       "        text-align: right;\n",
       "    }\n",
       "</style>\n",
       "<table border=\"1\" class=\"dataframe\">\n",
       "  <thead>\n",
       "    <tr style=\"text-align: right;\">\n",
       "      <th></th>\n",
       "      <th>Age_category</th>\n",
       "      <th>Total_Passengers</th>\n",
       "      <th>Total_Survived</th>\n",
       "    </tr>\n",
       "  </thead>\n",
       "  <tbody>\n",
       "    <tr>\n",
       "      <th>0</th>\n",
       "      <td>Toddler</td>\n",
       "      <td>30</td>\n",
       "      <td>20</td>\n",
       "    </tr>\n",
       "    <tr>\n",
       "      <th>1</th>\n",
       "      <td>Children</td>\n",
       "      <td>53</td>\n",
       "      <td>29</td>\n",
       "    </tr>\n",
       "    <tr>\n",
       "      <th>2</th>\n",
       "      <td>Youth</td>\n",
       "      <td>218</td>\n",
       "      <td>75</td>\n",
       "    </tr>\n",
       "    <tr>\n",
       "      <th>3</th>\n",
       "      <td>Adult</td>\n",
       "      <td>263</td>\n",
       "      <td>111</td>\n",
       "    </tr>\n",
       "    <tr>\n",
       "      <th>4</th>\n",
       "      <td>Middle_Aged_Person</td>\n",
       "      <td>128</td>\n",
       "      <td>50</td>\n",
       "    </tr>\n",
       "    <tr>\n",
       "      <th>5</th>\n",
       "      <td>Senior_Citizen</td>\n",
       "      <td>150</td>\n",
       "      <td>55</td>\n",
       "    </tr>\n",
       "  </tbody>\n",
       "</table>\n",
       "</div>"
      ],
      "text/plain": [
       "         Age_category  Total_Passengers  Total_Survived\n",
       "0             Toddler                30              20\n",
       "1            Children                53              29\n",
       "2               Youth               218              75\n",
       "3               Adult               263             111\n",
       "4  Middle_Aged_Person               128              50\n",
       "5      Senior_Citizen               150              55"
      ]
     },
     "execution_count": 9,
     "metadata": {},
     "output_type": "execute_result"
    }
   ],
   "source": [
    "# Survival Analysis by Age Category\n",
    "\n",
    "#Age has been categorized to 5 categories and are : Children,Youth, Adult, Middle_Aged_Person and Senior_Citizen\n",
    "\n",
    "# Total Passengers against Age_Category\n",
    "\n",
    "Toddler = data.Age[data.Age<=3].count()\n",
    "Children = data.Age[(data.Age>=4) & (data.Age<=15)].count()\n",
    "Youth = data.Age[(data.Age<=25) & (data.Age>15)].count()\n",
    "Adult = data.Age[(data.Age<=40) & (data.Age>25)].count()\n",
    "Middle_Aged_Person = data.Age[(data.Age<=60) & (data.Age>40)].count()\n",
    "Senior_Person = data.Age[(data.Age<=80) & (data.Age>40)].count()\n",
    "\n",
    "# Survived against Age_Category\n",
    "\n",
    "Toddler_survived = data.Age[(data.Age<=3) & (data.Survived == 1)].count()\n",
    "Children_survived = data.Age[(data.Age>=4) & (data.Age<=15) & (data.Survived ==1)].count()\n",
    "Youth_survived = data.Age[(data.Age<=25) & (data.Age>15) & (data.Survived ==1)].count()\n",
    "Adult_survived = data.Age[(data.Age<=40) & (data.Age>25) &(data.Survived ==1)].count()\n",
    "Middle_Aged_Person_survived = data.Age[(data.Age<=60) & (data.Age>40)& (data.Survived ==1)].count()\n",
    "Senior_Person_survived = data.Age[(data.Age<=80) & (data.Age>40) & (data.Survived ==1)].count()\n",
    "\n",
    "# Creating a dataframe\n",
    "Age_data = {\"Age_category\": [\"Toddler\",\"Children\", \"Youth\", \"Adult\", \"Middle_Aged_Person\", \"Senior_Citizen\"],\"Total_Passengers\": [Toddler,Children, Youth, Adult, Middle_Aged_Person, Senior_Person],\"Total_Survived\": [Toddler_survived, Children_survived, Youth_survived, Adult_survived, Middle_Aged_Person_survived, Senior_Person_survived]}\n",
    "AgeByCategory = pd.DataFrame(Age_data, columns = [\"Age_category\", \"Total_Passengers\",\"Total_Survived\"])\n",
    "AgeByCategory"
   ]
  },
  {
   "cell_type": "code",
   "execution_count": 10,
   "metadata": {},
   "outputs": [
    {
     "name": "stderr",
     "output_type": "stream",
     "text": [
      "C:\\Users\\IBM_ADMIN\\Anaconda3\\lib\\site-packages\\pandas\\plotting\\_core.py:1714: UserWarning: Pandas doesn't allow columns to be created via a new attribute name - see https://pandas.pydata.org/pandas-docs/stable/indexing.html#attribute-access\n",
      "  series.name = label\n"
     ]
    },
    {
     "data": {
      "image/png": "[encoded data removed]",
      "text/plain": [
       "<matplotlib.figure.Figure at 0x8ee6dd8>"
      ]
     },
     "metadata": {},
     "output_type": "display_data"
    }
   ],
   "source": [
    "# Bar Graph Generation\n",
    "\n",
    "AgeByCategory.plot(x=\"Age_category\", y=[\"Total_Passengers\",\"Total_Survived\"],kind = \"bar\")\n",
    "plt.xlabel(\"Age_Category\")\n",
    "plt.title(\"Survival Analysis by Age Category\")\n",
    "plt.show()"
   ]
  },
  {
   "cell_type": "code",
   "execution_count": 11,
   "metadata": {},
   "outputs": [
    {
     "name": "stdout",
     "output_type": "stream",
     "text": [
      "Percentage of Toddler's Survival:  66.67 %\n",
      "Percentage of Children Survival:  54.72 %\n",
      "Percentage of Youth Survival:  34.4 %\n",
      "Percentage of Adult Survival:  42.21 %\n",
      "Percentage of Middle_Aged_Person Survival:  39.06 %\n",
      "Percentage of Senior_Person Survival:  36.67 %\n"
     ]
    }
   ],
   "source": [
    "# Survival percentage against Age Category\n",
    "\n",
    "toddlersurvival = round(((Toddler_survived/Toddler)*100),2)\n",
    "childsuvival = round(((Children_survived/Children)*100),2)\n",
    "youthsuvival = round(((Youth_survived/Youth)*100),2)\n",
    "Adultsuvival = round(((Adult_survived/Adult)*100),2)\n",
    "Middle_Aged_Personsuvival = round(((Middle_Aged_Person_survived/Middle_Aged_Person)*100),2)\n",
    "Senior_Personsuvival = round(((Senior_Person_survived/Senior_Person)*100),2)\n",
    "\n",
    "print(\"Percentage of Toddler's Survival: \", toddlersurvival,\"%\")\n",
    "print(\"Percentage of Children Survival: \", childsuvival,\"%\")\n",
    "print(\"Percentage of Youth Survival: \", youthsuvival,\"%\")\n",
    "print(\"Percentage of Adult Survival: \", Adultsuvival,\"%\")\n",
    "print(\"Percentage of Middle_Aged_Person Survival: \", Middle_Aged_Personsuvival,\"%\")\n",
    "print(\"Percentage of Senior_Person Survival: \", Senior_Personsuvival,\"%\")"
   ]
  },
  {
   "cell_type": "markdown",
   "metadata": {},
   "source": [
    "- Age has been categorized to 5 categories and are : Children,Youth, Adult, Middle_Aged_Person and Senior_Citizen\n",
    "    - Toddlers = Age between 1 to 3 \n",
    "    - Children = Age between 4 than 15\n",
    "    - Youth = Age between 16 and 25\n",
    "    - Adult = Age between 26 and 40\n",
    "    - Middle_Age_Person = Age between 40 and 60\n",
    "    - Senior_Citizen = Age above 80 \n",
    "- Survival Rate of Children is very high"
   ]
  },
  {
   "cell_type": "markdown",
   "metadata": {},
   "source": [
    "#### Survival Analysis_Ticket Class"
   ]
  },
  {
   "cell_type": "code",
   "execution_count": 12,
   "metadata": {},
   "outputs": [
    {
     "name": "stdout",
     "output_type": "stream",
     "text": [
      "Pclass  Survived\n",
      "1       1           136\n",
      "2       1            87\n",
      "3       1           119\n",
      "Name: Survived, dtype: int64\n",
      "Pclass  Survived\n",
      "1       1           39.766082\n",
      "2       1           25.438596\n",
      "3       1           34.795322\n",
      "Name: Survived, dtype: float64\n",
      "Sex     Pclass  Survived\n",
      "female  1       1           26.608187\n",
      "        2       1           20.467836\n",
      "        3       1           21.052632\n",
      "male    1       1           13.157895\n",
      "        2       1            4.970760\n",
      "        3       1           13.742690\n",
      "Name: Survived, dtype: float64\n"
     ]
    }
   ],
   "source": [
    "#Ticket class Analysis \n",
    "\n",
    "Pclass= data[data.Survived==1].groupby([\"Pclass\",\"Survived\"])['Survived'].count()\n",
    "Pclass_per= data[data.Survived==1].groupby([\"Pclass\",\"Survived\"])['Survived'].count()/Total_Passengers_Survived*100\n",
    "PclassByGender = data[data.Survived==1].groupby([\"Sex\", \"Pclass\",\"Survived\"])['Survived'].count()/Total_Passengers_Survived*100\n",
    "\n",
    "print(Pclass)\n",
    "print(Pclass_per)\n",
    "print(PclassByGender)\n",
    "\n",
    "# There is no significant difference in survival chances with \"Ticket Class\""
   ]
  },
  {
   "cell_type": "markdown",
   "metadata": {},
   "source": [
    "- There was no significant differences seen under \"Ticket_Class\""
   ]
  },
  {
   "cell_type": "markdown",
   "metadata": {},
   "source": [
    "#### Survival Analysis_parents / children"
   ]
  },
  {
   "cell_type": "code",
   "execution_count": 13,
   "metadata": {},
   "outputs": [
    {
     "name": "stdout",
     "output_type": "stream",
     "text": [
      "Survived  Parch\n",
      "1         1        65\n",
      "          2        40\n",
      "          3         3\n",
      "          5         1\n",
      "Name: Survived, dtype: int64\n",
      "Survived  Parch\n",
      "1         1        19.005848\n",
      "          2        11.695906\n",
      "          3         0.877193\n",
      "          5         0.292398\n",
      "Name: Survived, dtype: float64\n",
      "Survived  Parch\n",
      "1         0        68.128655\n",
      "Name: Survived, dtype: float64\n"
     ]
    }
   ],
   "source": [
    "# Survival chances if they are parent/children\n",
    "\n",
    "No_Parch_Survived = data[(data.Survived==1) & (data.Parch==0)].groupby([\"Survived\",\"Parch\"])[\"Survived\"].count()/Total_Passengers_Survived*100\n",
    "Parch_Survived = data[(data.Survived==1) & (data.Parch>=1)].groupby([\"Survived\",\"Parch\"])[\"Survived\"].count()\n",
    "Parch_Survived_per = data[(data.Survived==1) & (data.Parch>=1)].groupby([\"Survived\",\"Parch\"])[\"Survived\"].count()/Total_Passengers_Survived*100\n",
    "\n",
    "print(Parch_Survived)\n",
    "print(Parch_Survived_per)\n",
    "print(No_Parch_Survived)\n",
    "\n"
   ]
  },
  {
   "cell_type": "markdown",
   "metadata": {},
   "source": [
    "- 68% of passengers survived do not have children/parent onboard .\n",
    "- one or more chidren/parent onboard does have significant in the survival rate.\n"
   ]
  },
  {
   "cell_type": "markdown",
   "metadata": {},
   "source": [
    "#### Survival Analysis_Sibling/Spouse"
   ]
  },
  {
   "cell_type": "code",
   "execution_count": 14,
   "metadata": {},
   "outputs": [
    {
     "name": "stdout",
     "output_type": "stream",
     "text": [
      "Survived  SibSp\n",
      "1         1        112\n",
      "          2         13\n",
      "          3          4\n",
      "          4          3\n",
      "Name: Survived, dtype: int64\n",
      "Survived  SibSp\n",
      "1         1        32.748538\n",
      "          2         3.801170\n",
      "          3         1.169591\n",
      "          4         0.877193\n",
      "Name: Survived, dtype: float64\n",
      "Survived  SibSp\n",
      "1         0        61.403509\n",
      "Name: Survived, dtype: float64\n"
     ]
    }
   ],
   "source": [
    "# Survival chances if they have Sibling\n",
    "\n",
    "No_SibSp_Survived = data[(data.Survived==1) & (data.SibSp==0)].groupby([\"Survived\",\"SibSp\"])[\"Survived\"].count()/Total_Passengers_Survived*100\n",
    "SibSp_Survived = data[(data.Survived==1) & (data.SibSp>=1)].groupby([\"Survived\",\"SibSp\"])[\"Survived\"].count()\n",
    "SibSp_Survived_per = data[(data.Survived==1) & (data.SibSp>=1)].groupby([\"Survived\",\"SibSp\"])[\"Survived\"].count()/Total_Passengers_Survived*100\n",
    "\n",
    "print(SibSp_Survived)\n",
    "print(SibSp_Survived_per)\n",
    "print(No_SibSp_Survived)\n"
   ]
  },
  {
   "cell_type": "markdown",
   "metadata": {},
   "source": [
    "- 60% of passengers survived do not have Siblings/Spouse onboard. \n",
    "- Survival chances of passengers with one sibling is relatively high compared to others having more than one siblings onboard."
   ]
  },
  {
   "cell_type": "markdown",
   "metadata": {},
   "source": [
    "#### Survival Analysis_Ticket Fare"
   ]
  },
  {
   "cell_type": "code",
   "execution_count": 15,
   "metadata": {},
   "outputs": [
    {
     "data": {
      "image/png": "[encoded data removed]",
      "text/plain": [
       "<matplotlib.figure.Figure at 0x8b6a588>"
      ]
     },
     "metadata": {},
     "output_type": "display_data"
    },
    {
     "name": "stdout",
     "output_type": "stream",
     "text": [
      "891\n",
      "731\n",
      "0.681286549708\n"
     ]
    }
   ],
   "source": [
    "# Fare frequency using histogram\n",
    "\n",
    "data.Fare.hist()\n",
    "plt.title(\"Historgram of Fare\")\n",
    "plt.xlabel(\"Fare\")\n",
    "plt.ylabel(\"Frequency\")\n",
    "plt.show()\n",
    "\n",
    "\n",
    "print(data.Fare.count())\n",
    "print(data.Fare[data.Fare<=50].count())\n",
    "print(data.Fare[(data.Fare<=50)& (data.Survived==1)].count()/Total_Passengers_Survived)"
   ]
  },
  {
   "cell_type": "markdown",
   "metadata": {},
   "source": [
    "- 700 passengers travelling had bought ticket for less than 51 dollars.\n",
    "- Out of 39% of passengers survived, 68% of passenger's fare was less than 51 dollars."
   ]
  },
  {
   "cell_type": "markdown",
   "metadata": {},
   "source": [
    "# Data Cleansing and PreProcessing"
   ]
  },
  {
   "cell_type": "code",
   "execution_count": 16,
   "metadata": {},
   "outputs": [
    {
     "name": "stderr",
     "output_type": "stream",
     "text": [
      "C:\\Users\\IBM_ADMIN\\Anaconda3\\lib\\site-packages\\sklearn\\cross_validation.py:44: DeprecationWarning: This module was deprecated in version 0.18 in favor of the model_selection module into which all the refactored classes and functions are moved. Also note that the interface of the new CV iterators are different from that of this module. This module will be removed in 0.20.\n",
      "  \"This module will be removed in 0.20.\", DeprecationWarning)\n"
     ]
    }
   ],
   "source": [
    "# Hadling Missing Values in the column Age\n",
    "data[\"Age\"].fillna((data[\"Age\"].mean()),inplace=True) \n",
    "data = data.dropna(axis=0) # remvoving records with no values \n",
    "\n",
    "# Removal of Columns\n",
    "cols = [\"PassengerId\", \"Name\",\"Cabin\",\"Ticket\"] \n",
    "data_set = data.drop(cols,axis=1)\n",
    "\n",
    "# Extraction of target and dependent variables\n",
    "x = data_set.drop(\"Survived\", axis =1)\n",
    "y = data_set.Survived\n",
    "\n",
    "# encode all the features those are not numerical \n",
    "# ( Note:  assuming all are the ordinal categories, ideally for nominal categories need to convert them in one-hot-coding )\n",
    "# Assignment - Change all nominal to one-hot-coding and ordinal attributes into pandas encoding.\n",
    "for feature in x.columns:\n",
    "    if x[feature].dtype == 'object':\n",
    "        x[feature] = pd.Categorical(x[feature]).codes \n",
    "        \n",
    "# Splitting into train and test data \n",
    "from sklearn.cross_validation import train_test_split\n",
    "x_train, x_test, y_train, y_test = train_test_split(x,y,test_size = .20, random_state = 0)"
   ]
  },
  {
   "cell_type": "markdown",
   "metadata": {},
   "source": [
    "- Data Imputation\n",
    "- Removal of columns such as \"PassengerId\", \"Name\",\"Cabin\",\"Ticket\"\n",
    "- Extraction of target and dependent variables\n",
    "- One-Hot Encoding\n",
    "    -Gender : female = 0 , male = 1\n",
    "    -Embarked : C = 0 , Q = 1, S = 2\n",
    "- data split "
   ]
  },
  {
   "cell_type": "markdown",
   "metadata": {},
   "source": [
    "# Machine Learning"
   ]
  },
  {
   "cell_type": "markdown",
   "metadata": {},
   "source": [
    "#### Model Selection with default parameters"
   ]
  },
  {
   "cell_type": "code",
   "execution_count": 17,
   "metadata": {},
   "outputs": [
    {
     "data": {
      "text/plain": [
       "0.70731707317073167"
      ]
     },
     "execution_count": 17,
     "metadata": {},
     "output_type": "execute_result"
    }
   ],
   "source": [
    "# Logistic Regression\n",
    "from sklearn.linear_model import LogisticRegression\n",
    "from sklearn import metrics\n",
    "\n",
    "logreg = LogisticRegression()\n",
    "logreg.fit(x_train,y_train)\n",
    "y_pred = logreg.predict(x_test)\n",
    "\n",
    "metrics.accuracy_score(y_test, y_pred)\n"
   ]
  },
  {
   "cell_type": "code",
   "execution_count": 18,
   "metadata": {},
   "outputs": [
    {
     "data": {
      "text/plain": [
       "0.75609756097560976"
      ]
     },
     "execution_count": 18,
     "metadata": {},
     "output_type": "execute_result"
    }
   ],
   "source": [
    "# Decision Tree Classifier\n",
    "from sklearn.tree import DecisionTreeClassifier\n",
    "\n",
    "\n",
    "tree_model = DecisionTreeClassifier()\n",
    "tree_model.fit(x_train,y_train)\n",
    "y_pred = tree_model.predict(x_test)\n",
    "\n",
    "metrics.accuracy_score(y_test, y_pred)"
   ]
  },
  {
   "cell_type": "code",
   "execution_count": 19,
   "metadata": {},
   "outputs": [
    {
     "data": {
      "text/plain": [
       "0.73170731707317072"
      ]
     },
     "execution_count": 19,
     "metadata": {},
     "output_type": "execute_result"
    }
   ],
   "source": [
    "# Random Forest\n",
    "from sklearn.ensemble import RandomForestClassifier\n",
    "\n",
    "rf_model = RandomForestClassifier()\n",
    "rf_model.fit(x_train,y_train)\n",
    "y_pred = rf_model.predict(x_test)\n",
    "\n",
    "metrics.accuracy_score(y_test, y_pred)"
   ]
  },
  {
   "cell_type": "code",
   "execution_count": 20,
   "metadata": {},
   "outputs": [
    {
     "data": {
      "text/plain": [
       "0.65853658536585369"
      ]
     },
     "execution_count": 20,
     "metadata": {},
     "output_type": "execute_result"
    }
   ],
   "source": [
    "# SVM Classifier\n",
    "from sklearn.svm import SVC\n",
    "\n",
    "svm_model = SVC()\n",
    "svm_model.fit(x_train,y_train)\n",
    "y_pred = svm_model.predict(x_test)\n",
    "\n",
    "metrics.accuracy_score(y_test, y_pred)\n"
   ]
  },
  {
   "cell_type": "code",
   "execution_count": 21,
   "metadata": {},
   "outputs": [
    {
     "data": {
      "text/plain": [
       "0.75609756097560976"
      ]
     },
     "execution_count": 21,
     "metadata": {},
     "output_type": "execute_result"
    }
   ],
   "source": [
    "# Gradient boosting\n",
    "from sklearn.ensemble import GradientBoostingClassifier\n",
    "gb_model = GradientBoostingClassifier()\n",
    "gb_model.fit(x_train, y_train)\n",
    "y_pred = gb_model.predict(x_test)\n",
    "\n",
    "metrics.accuracy_score(y_test, y_pred)"
   ]
  },
  {
   "cell_type": "markdown",
   "metadata": {},
   "source": [
    "- Used 5 classification models with default parameters and here are the accuracy scores below: \n",
    "    - Gradient Boosting : 71%\n",
    "    - Logistic Regression : 71%\n",
    "    - Decision Tree : 68%\n",
    "    - Random Forest : 68%\n",
    "    - SVM : 65%\n",
    "    \n",
    "- Gradient Boosting is yielding high accuracy level"
   ]
  },
  {
   "cell_type": "markdown",
   "metadata": {},
   "source": [
    "#### Model Tuning - Grid Search"
   ]
  },
  {
   "cell_type": "markdown",
   "metadata": {},
   "source": [
    "- Decision Tree Model \n",
    "    - 71% after tunning"
   ]
  },
  {
   "cell_type": "code",
   "execution_count": 22,
   "metadata": {},
   "outputs": [
    {
     "data": {
      "text/plain": [
       "GridSearchCV(cv=5, error_score='raise',\n",
       "       estimator=DecisionTreeClassifier(class_weight=None, criterion='gini', max_depth=None,\n",
       "            max_features=None, max_leaf_nodes=None,\n",
       "            min_impurity_split=1e-07, min_samples_leaf=1,\n",
       "            min_samples_split=2, min_weight_fraction_leaf=0.0,\n",
       "            presort=False, random_state=None, splitter='best'),\n",
       "       fit_params={}, iid=True, n_jobs=1,\n",
       "       param_grid={'criterion': ['gini', 'entropy'], 'max_features': [2, 3, 4], 'splitter': ['best', 'random'], 'min_samples_split': [5, 10], 'min_samples_leaf': [4, 5, 10]},\n",
       "       pre_dispatch='2*n_jobs', refit=True, return_train_score=True,\n",
       "       scoring='accuracy', verbose=0)"
      ]
     },
     "execution_count": 22,
     "metadata": {},
     "output_type": "execute_result"
    }
   ],
   "source": [
    "# Decision Tree Model\n",
    "\n",
    "from sklearn.model_selection import GridSearchCV\n",
    "\n",
    "DecisionTreeClassifier()\n",
    "\n",
    "param_grid = { \"criterion\"      : ['gini', 'entropy'],    \n",
    "               \"max_features\"   : [2, 3, 4 ],             \n",
    "               \"splitter\"       : ['best', 'random'],  \n",
    "               \"min_samples_split\"  : [5, 10 ],\n",
    "               \"min_samples_leaf\"  : [ 4, 5, 10]\n",
    "                                }\n",
    "\n",
    "\n",
    "optimized_tree = GridSearchCV(tree_model, param_grid, scoring='accuracy', cv=5 )\n",
    "optimized_tree.fit(x_train, y_train)"
   ]
  },
  {
   "cell_type": "code",
   "execution_count": 23,
   "metadata": {},
   "outputs": [
    {
     "data": {
      "text/plain": [
       "0.78260869565217395"
      ]
     },
     "execution_count": 23,
     "metadata": {},
     "output_type": "execute_result"
    }
   ],
   "source": [
    "optimized_tree.best_score_"
   ]
  },
  {
   "cell_type": "code",
   "execution_count": 24,
   "metadata": {},
   "outputs": [
    {
     "data": {
      "text/plain": [
       "{'criterion': 'entropy',\n",
       " 'max_features': 4,\n",
       " 'min_samples_leaf': 10,\n",
       " 'min_samples_split': 10,\n",
       " 'splitter': 'random'}"
      ]
     },
     "execution_count": 24,
     "metadata": {},
     "output_type": "execute_result"
    }
   ],
   "source": [
    "optimized_tree.best_params_"
   ]
  },
  {
   "cell_type": "code",
   "execution_count": 25,
   "metadata": {
    "collapsed": true
   },
   "outputs": [],
   "source": [
    "tree_final = DecisionTreeClassifier(criterion = 'gini', max_features = 3, min_samples_leaf = 10, min_samples_split = 10, \n",
    "                                          splitter = 'random')\n",
    "model_f = tree_final.fit(x_train, y_train)"
   ]
  },
  {
   "cell_type": "code",
   "execution_count": 26,
   "metadata": {},
   "outputs": [
    {
     "name": "stdout",
     "output_type": "stream",
     "text": [
      "0.658536585366\n"
     ]
    }
   ],
   "source": [
    "y_pred_tree = model_f.predict(x_test)\n",
    "tree_result = metrics.accuracy_score(y_pred_tree, y_test) \n",
    "print(tree_result)"
   ]
  },
  {
   "cell_type": "markdown",
   "metadata": {},
   "source": [
    "- Gradient Boosting Model \n",
    "    - 73% after tunning"
   ]
  },
  {
   "cell_type": "code",
   "execution_count": 27,
   "metadata": {},
   "outputs": [
    {
     "data": {
      "text/plain": [
       "GridSearchCV(cv=5, error_score='raise',\n",
       "       estimator=GradientBoostingClassifier(criterion='friedman_mse', init=None,\n",
       "              learning_rate=0.1, loss='deviance', max_depth=3,\n",
       "              max_features=None, max_leaf_nodes=None,\n",
       "              min_impurity_split=1e-07, min_samples_leaf=1,\n",
       "              min_samples_split=2, min_weight_fraction_leaf=0.0,\n",
       "              n_estimators=100, presort='auto', random_state=None,\n",
       "              subsample=1.0, verbose=0, warm_start=False),\n",
       "       fit_params={}, iid=True, n_jobs=1,\n",
       "       param_grid={'n_estimators': [100], 'max_features': [3, 4, 5], 'min_samples_leaf': [10, 15], 'learning_rate': [0.1, 0.2, 0.3]},\n",
       "       pre_dispatch='2*n_jobs', refit=True, return_train_score=True,\n",
       "       scoring='accuracy', verbose=0)"
      ]
     },
     "execution_count": 27,
     "metadata": {},
     "output_type": "execute_result"
    }
   ],
   "source": [
    "# Gradient Boosting Model\n",
    "# Ref - http://scikit-learn.org/stable/modules/generated/sklearn.ensemble.RandomForestClassifier.html#sklearn.ensemble.RandomForestClassifier\n",
    "\n",
    "\n",
    "\n",
    "param_grid = { \"n_estimators\"      : [100],             \n",
    "               \"max_features\"      : [3, 4, 5],     \n",
    "               \"min_samples_leaf\"  : [10, 15],\n",
    "               \"learning_rate\"     :[0.1, 0.2, 0.3]\n",
    "                }\n",
    "\n",
    "optimized_gb = GridSearchCV(gb_model, param_grid, scoring='accuracy', cv=5 )\n",
    "optimized_gb.fit(x_train, y_train)"
   ]
  },
  {
   "cell_type": "code",
   "execution_count": 28,
   "metadata": {},
   "outputs": [
    {
     "data": {
      "text/plain": [
       "0.73291925465838514"
      ]
     },
     "execution_count": 28,
     "metadata": {},
     "output_type": "execute_result"
    }
   ],
   "source": [
    "optimized_gb.best_score_\n"
   ]
  },
  {
   "cell_type": "code",
   "execution_count": 29,
   "metadata": {},
   "outputs": [
    {
     "data": {
      "text/plain": [
       "{'learning_rate': 0.3,\n",
       " 'max_features': 4,\n",
       " 'min_samples_leaf': 10,\n",
       " 'n_estimators': 100}"
      ]
     },
     "execution_count": 29,
     "metadata": {},
     "output_type": "execute_result"
    }
   ],
   "source": [
    "optimized_gb.best_params_"
   ]
  },
  {
   "cell_type": "code",
   "execution_count": 30,
   "metadata": {},
   "outputs": [
    {
     "name": "stdout",
     "output_type": "stream",
     "text": [
      "0.756097560976\n"
     ]
    }
   ],
   "source": [
    "gb_model_final = GradientBoostingClassifier(learning_rate=0.1, max_features=4, n_estimators=100, min_samples_leaf=15 )\n",
    "gb_model_final.fit(x_train, y_train)\n",
    "y_pred_gb = gb_model_final.predict(x_test)\n",
    "gb_result = metrics.accuracy_score(y_test, y_pred_gb)\n",
    "print(gb_result)"
   ]
  },
  {
   "cell_type": "markdown",
   "metadata": {},
   "source": [
    "#### Gradient Boosting model provided better accuracy compared to the rest of the classification models\n",
    "   \n",
    "    from sklearn.ensemble import GradientBoostingClassifier\n",
    "    from sklearn import metrics\n",
    "\n",
    "    model_final = GradientBoostingClassifier(learning_rate=0.1, max_features=4, n_estimators=100, min_samples_leaf=15)\n",
    "    model_final.fit(x_train, y_train)\n",
    "    y_pred_gb = model_final.predict(x_test)\n",
    "    gb_result = metrics.accuracy_score(y_test, y_pred_gb)\n",
    "    print(gb_result)    \n",
    "  "
   ]
  },
  {
   "cell_type": "code",
   "execution_count": null,
   "metadata": {
    "collapsed": true
   },
   "outputs": [],
   "source": []
  },
  {
   "cell_type": "code",
   "execution_count": null,
   "metadata": {
    "collapsed": true
   },
   "outputs": [],
   "source": []
  }
 ],
 "metadata": {
  "kernelspec": {
   "display_name": "Python 3",
   "language": "python",
   "name": "python3"
  },
  "language_info": {
   "codemirror_mode": {
    "name": "ipython",
    "version": 3
   },
   "file_extension": ".py",
   "mimetype": "text/x-python",
   "name": "python",
   "nbconvert_exporter": "python",
   "pygments_lexer": "ipython3",
   "version": "3.6.5"
  }
 },
 "nbformat": 4,
 "nbformat_minor": 2
}
